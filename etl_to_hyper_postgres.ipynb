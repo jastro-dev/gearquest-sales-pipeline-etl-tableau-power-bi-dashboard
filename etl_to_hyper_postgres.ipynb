{
 "cells": [
  {
   "cell_type": "markdown",
   "metadata": {},
   "source": [
    "## Sales Pipeline ETL & Tableau Dashboard: GearQuest Analysis"
   ]
  },
  {
   "cell_type": "markdown",
   "metadata": {},
   "source": [
    "The objective of this mini-project is to demonstrate the process of extracting, transforming, and loading (ETL) data from Excel files into a .hyper Tableau extract file. This approach facilitates seamless data integration within Tableau, enabling enhanced business intelligence visualizations and dashboard creation."
   ]
  },
  {
   "cell_type": "markdown",
   "metadata": {},
   "source": [
    "## Import Libraries"
   ]
  },
  {
   "cell_type": "code",
   "execution_count": 1,
   "metadata": {},
   "outputs": [],
   "source": [
    "from decimal import Decimal\n",
    "import pandas as pd\n",
    "import numpy as np\n",
    "from tableauhyperapi import HyperProcess, Connection, Nullability, TableDefinition, TableName, SqlType, Telemetry, Inserter, CreateMode\n",
    "import psycopg2\n",
    "from dotenv import load_dotenv\n",
    "import os"
   ]
  },
  {
   "cell_type": "markdown",
   "metadata": {},
   "source": [
    "## Load Data"
   ]
  },
  {
   "cell_type": "code",
   "execution_count": 2,
   "metadata": {},
   "outputs": [],
   "source": [
    "orders_df = pd.read_excel('data/raw/Orders.xlsx')\n",
    "order_status_df = pd.read_excel('data/raw/Order_Status.xlsx')\n",
    "products_df = pd.read_excel('data/raw/Products.xlsx')\n",
    "geo_lookup_df = pd.read_excel('data/raw/Geo_lookup.xlsx')\n",
    "customers_df = pd.read_excel('data/raw/Customers.xlsx')"
   ]
  },
  {
   "cell_type": "markdown",
   "metadata": {},
   "source": [
    "## View Tables"
   ]
  },
  {
   "cell_type": "code",
   "execution_count": 3,
   "metadata": {},
   "outputs": [
    {
     "name": "stdout",
     "output_type": "stream",
     "text": [
      "          id customer_id          purchase_ts product_id currency  \\\n",
      "0  ORD089732  CUST003092  2021-01-01 00:06:26    PROD012      USD   \n",
      "1  ORD019074  CUST043370  2021-01-01 00:08:39    PROD010      USD   \n",
      "2  ORD019074  CUST043370  2021-01-01 00:08:39    PROD020      USD   \n",
      "3  ORD019074  CUST043370  2021-01-01 00:08:39    PROD020      USD   \n",
      "4  ORD237204  CUST025382  2021-01-01 00:14:06    PROD035      EUR   \n",
      "\n",
      "   local_price  usd_price purchase_platform  \n",
      "0       909.40       3250        Mobile App  \n",
      "1       643.01       1430        Mobile App  \n",
      "2       846.20       3900        Mobile App  \n",
      "3       120.41       3900           Website  \n",
      "4      3531.00       3640        Mobile App  \n",
      "    order_id          purchase_ts              ship_ts          delivery_ts  \\\n",
      "0  ORD013125  2021-02-19 07:22:33  2021-02-20 09:41:13  2021-02-27 10:31:18   \n",
      "1  ORD013126  2022-04-15 07:57:18  2022-04-20 08:26:16  2022-04-30 13:41:33   \n",
      "2  ORD013127  2021-01-26 11:58:09  2021-01-27 01:19:50  2021-02-03 19:43:16   \n",
      "3  ORD013128  2021-09-28 20:26:39  2021-09-29 19:30:49  2021-10-02 13:43:03   \n",
      "4  ORD013129  2023-10-16 09:57:56  2023-10-17 19:40:44  2023-10-23 11:19:23   \n",
      "\n",
      "  refund_ts  \n",
      "0       NaN  \n",
      "1       NaN  \n",
      "2       NaN  \n",
      "3       NaN  \n",
      "4       NaN  \n",
      "  product_id                                       product_name  \\\n",
      "0    PROD001            Acer Nitro 5 - Intel i5, RTX 3050, 60Hz   \n",
      "1    PROD002  HP Pavilion Gaming 15 - AMD Ryzen 5, RTX 3050 ...   \n",
      "2    PROD003      ASUS TUF Dash F15 - Intel i5, RTX 3050, 144Hz   \n",
      "3    PROD004           MSI GF63 Thin - Intel i5, RTX 3050, 60Hz   \n",
      "4    PROD005     Acer Aspire 7 - AMD Ryzen 5, RTX 3050 Ti, 60Hz   \n",
      "\n",
      "         category                            specs  price_USD  \n",
      "0  Gaming Laptops         Intel i5, RTX 3050, 60Hz        910  \n",
      "1  Gaming Laptops  AMD Ryzen 5, RTX 3050 Ti, 120Hz       1105  \n",
      "2  Gaming Laptops        Intel i5, RTX 3050, 144Hz       1235  \n",
      "3  Gaming Laptops         Intel i5, RTX 3050, 60Hz        975  \n",
      "4  Gaming Laptops   AMD Ryzen 5, RTX 3050 Ti, 60Hz        845  \n",
      "  country         region currency\n",
      "0      US  North America      USD\n",
      "1      CA  North America      CAD\n",
      "2      BR  South America      BRL\n",
      "3      AR  South America      ARS\n",
      "4      DE         Europe      EUR\n",
      "           id  marketing_channel account_creation_method country_code  \\\n",
      "0  CUST000001    Email Marketing                 Website           JP   \n",
      "1  CUST000002       Instagram Ad              Mobile App           BR   \n",
      "2  CUST000003  Search Engine Ads                 Website           KR   \n",
      "3  CUST000004         Twitch Ads                 Website           JP   \n",
      "4  CUST000005  Search Engine Ads                 Website           DE   \n",
      "\n",
      "            created_on  \n",
      "0  2024-09-24 22:19:54  \n",
      "1  2023-10-24 13:13:21  \n",
      "2  2023-03-28 08:44:33  \n",
      "3  2020-04-08 14:22:06  \n",
      "4  2021-04-02 09:02:15  \n"
     ]
    }
   ],
   "source": [
    "tables = [orders_df, order_status_df, products_df, geo_lookup_df, customers_df]\n",
    "\n",
    "for table in tables:\n",
    "    print(table.head())"
   ]
  },
  {
   "cell_type": "markdown",
   "metadata": {},
   "source": [
    "## Drop Duplicates"
   ]
  },
  {
   "cell_type": "code",
   "execution_count": 4,
   "metadata": {},
   "outputs": [],
   "source": [
    "orders_df.drop_duplicates(inplace=True)\n",
    "order_status_df.drop_duplicates(inplace=True)\n",
    "products_df.drop_duplicates(inplace=True)\n",
    "geo_lookup_df.drop_duplicates(inplace=True)\n",
    "customers_df.drop_duplicates(inplace=True)"
   ]
  },
  {
   "cell_type": "markdown",
   "metadata": {},
   "source": [
    "## Combine Tables"
   ]
  },
  {
   "cell_type": "markdown",
   "metadata": {},
   "source": [
    "### Orders + Order Status Table"
   ]
  },
  {
   "cell_type": "code",
   "execution_count": 5,
   "metadata": {},
   "outputs": [],
   "source": [
    "orders_df_combined = pd.merge(orders_df.drop('purchase_ts', axis=1), order_status_df, how='left', left_on='id', right_on='order_id').drop('order_id', axis=1).rename(columns={'id': 'order_id'})"
   ]
  },
  {
   "cell_type": "code",
   "execution_count": 6,
   "metadata": {},
   "outputs": [
    {
     "data": {
      "text/html": [
       "<div>\n",
       "<style scoped>\n",
       "    .dataframe tbody tr th:only-of-type {\n",
       "        vertical-align: middle;\n",
       "    }\n",
       "\n",
       "    .dataframe tbody tr th {\n",
       "        vertical-align: top;\n",
       "    }\n",
       "\n",
       "    .dataframe thead th {\n",
       "        text-align: right;\n",
       "    }\n",
       "</style>\n",
       "<table border=\"1\" class=\"dataframe\">\n",
       "  <thead>\n",
       "    <tr style=\"text-align: right;\">\n",
       "      <th></th>\n",
       "      <th>order_id</th>\n",
       "      <th>customer_id</th>\n",
       "      <th>product_id</th>\n",
       "      <th>currency</th>\n",
       "      <th>local_price</th>\n",
       "      <th>usd_price</th>\n",
       "      <th>purchase_platform</th>\n",
       "      <th>purchase_ts</th>\n",
       "      <th>ship_ts</th>\n",
       "      <th>delivery_ts</th>\n",
       "      <th>refund_ts</th>\n",
       "    </tr>\n",
       "  </thead>\n",
       "  <tbody>\n",
       "    <tr>\n",
       "      <th>0</th>\n",
       "      <td>ORD089732</td>\n",
       "      <td>CUST003092</td>\n",
       "      <td>PROD012</td>\n",
       "      <td>USD</td>\n",
       "      <td>909.40</td>\n",
       "      <td>3250</td>\n",
       "      <td>Mobile App</td>\n",
       "      <td>2021-01-01 00:06:26</td>\n",
       "      <td>2021-01-05 12:26:36</td>\n",
       "      <td>2021-01-09 09:07:20</td>\n",
       "      <td>NaN</td>\n",
       "    </tr>\n",
       "    <tr>\n",
       "      <th>1</th>\n",
       "      <td>ORD019074</td>\n",
       "      <td>CUST043370</td>\n",
       "      <td>PROD010</td>\n",
       "      <td>USD</td>\n",
       "      <td>643.01</td>\n",
       "      <td>1430</td>\n",
       "      <td>Mobile App</td>\n",
       "      <td>2021-01-01 00:08:39</td>\n",
       "      <td>2021-01-03 13:23:10</td>\n",
       "      <td>2021-01-09 10:03:21</td>\n",
       "      <td>NaN</td>\n",
       "    </tr>\n",
       "    <tr>\n",
       "      <th>2</th>\n",
       "      <td>ORD019074</td>\n",
       "      <td>CUST043370</td>\n",
       "      <td>PROD020</td>\n",
       "      <td>USD</td>\n",
       "      <td>846.20</td>\n",
       "      <td>3900</td>\n",
       "      <td>Mobile App</td>\n",
       "      <td>2021-01-01 00:08:39</td>\n",
       "      <td>2021-01-03 13:23:10</td>\n",
       "      <td>2021-01-09 10:03:21</td>\n",
       "      <td>NaN</td>\n",
       "    </tr>\n",
       "    <tr>\n",
       "      <th>3</th>\n",
       "      <td>ORD019074</td>\n",
       "      <td>CUST043370</td>\n",
       "      <td>PROD020</td>\n",
       "      <td>USD</td>\n",
       "      <td>120.41</td>\n",
       "      <td>3900</td>\n",
       "      <td>Website</td>\n",
       "      <td>2021-01-01 00:08:39</td>\n",
       "      <td>2021-01-03 13:23:10</td>\n",
       "      <td>2021-01-09 10:03:21</td>\n",
       "      <td>NaN</td>\n",
       "    </tr>\n",
       "    <tr>\n",
       "      <th>4</th>\n",
       "      <td>ORD237204</td>\n",
       "      <td>CUST025382</td>\n",
       "      <td>PROD035</td>\n",
       "      <td>EUR</td>\n",
       "      <td>3531.00</td>\n",
       "      <td>3640</td>\n",
       "      <td>Mobile App</td>\n",
       "      <td>2021-01-01 00:14:06</td>\n",
       "      <td>2021-01-05 21:16:52</td>\n",
       "      <td>2021-01-09 10:11:47</td>\n",
       "      <td>NaN</td>\n",
       "    </tr>\n",
       "  </tbody>\n",
       "</table>\n",
       "</div>"
      ],
      "text/plain": [
       "    order_id customer_id product_id currency  local_price  usd_price  \\\n",
       "0  ORD089732  CUST003092    PROD012      USD       909.40       3250   \n",
       "1  ORD019074  CUST043370    PROD010      USD       643.01       1430   \n",
       "2  ORD019074  CUST043370    PROD020      USD       846.20       3900   \n",
       "3  ORD019074  CUST043370    PROD020      USD       120.41       3900   \n",
       "4  ORD237204  CUST025382    PROD035      EUR      3531.00       3640   \n",
       "\n",
       "  purchase_platform          purchase_ts              ship_ts  \\\n",
       "0        Mobile App  2021-01-01 00:06:26  2021-01-05 12:26:36   \n",
       "1        Mobile App  2021-01-01 00:08:39  2021-01-03 13:23:10   \n",
       "2        Mobile App  2021-01-01 00:08:39  2021-01-03 13:23:10   \n",
       "3           Website  2021-01-01 00:08:39  2021-01-03 13:23:10   \n",
       "4        Mobile App  2021-01-01 00:14:06  2021-01-05 21:16:52   \n",
       "\n",
       "           delivery_ts refund_ts  \n",
       "0  2021-01-09 09:07:20       NaN  \n",
       "1  2021-01-09 10:03:21       NaN  \n",
       "2  2021-01-09 10:03:21       NaN  \n",
       "3  2021-01-09 10:03:21       NaN  \n",
       "4  2021-01-09 10:11:47       NaN  "
      ]
     },
     "execution_count": 6,
     "metadata": {},
     "output_type": "execute_result"
    }
   ],
   "source": [
    "orders_df_combined.head()"
   ]
  },
  {
   "cell_type": "markdown",
   "metadata": {},
   "source": [
    "### Customers + Geo Lookup Tables"
   ]
  },
  {
   "cell_type": "code",
   "execution_count": 7,
   "metadata": {},
   "outputs": [],
   "source": [
    "customers_df_combined = pd.merge(customers_df, geo_lookup_df, how='left', left_on='country_code', right_on='country').drop('country_code', axis=1).rename(columns={'id': 'customer_id'})"
   ]
  },
  {
   "cell_type": "code",
   "execution_count": 8,
   "metadata": {},
   "outputs": [
    {
     "data": {
      "text/html": [
       "<div>\n",
       "<style scoped>\n",
       "    .dataframe tbody tr th:only-of-type {\n",
       "        vertical-align: middle;\n",
       "    }\n",
       "\n",
       "    .dataframe tbody tr th {\n",
       "        vertical-align: top;\n",
       "    }\n",
       "\n",
       "    .dataframe thead th {\n",
       "        text-align: right;\n",
       "    }\n",
       "</style>\n",
       "<table border=\"1\" class=\"dataframe\">\n",
       "  <thead>\n",
       "    <tr style=\"text-align: right;\">\n",
       "      <th></th>\n",
       "      <th>customer_id</th>\n",
       "      <th>marketing_channel</th>\n",
       "      <th>account_creation_method</th>\n",
       "      <th>created_on</th>\n",
       "      <th>country</th>\n",
       "      <th>region</th>\n",
       "      <th>currency</th>\n",
       "    </tr>\n",
       "  </thead>\n",
       "  <tbody>\n",
       "    <tr>\n",
       "      <th>0</th>\n",
       "      <td>CUST000001</td>\n",
       "      <td>Email Marketing</td>\n",
       "      <td>Website</td>\n",
       "      <td>2024-09-24 22:19:54</td>\n",
       "      <td>JP</td>\n",
       "      <td>Asia</td>\n",
       "      <td>JPY</td>\n",
       "    </tr>\n",
       "    <tr>\n",
       "      <th>1</th>\n",
       "      <td>CUST000002</td>\n",
       "      <td>Instagram Ad</td>\n",
       "      <td>Mobile App</td>\n",
       "      <td>2023-10-24 13:13:21</td>\n",
       "      <td>BR</td>\n",
       "      <td>South America</td>\n",
       "      <td>BRL</td>\n",
       "    </tr>\n",
       "    <tr>\n",
       "      <th>2</th>\n",
       "      <td>CUST000003</td>\n",
       "      <td>Search Engine Ads</td>\n",
       "      <td>Website</td>\n",
       "      <td>2023-03-28 08:44:33</td>\n",
       "      <td>KR</td>\n",
       "      <td>Asia</td>\n",
       "      <td>KRW</td>\n",
       "    </tr>\n",
       "    <tr>\n",
       "      <th>3</th>\n",
       "      <td>CUST000004</td>\n",
       "      <td>Twitch Ads</td>\n",
       "      <td>Website</td>\n",
       "      <td>2020-04-08 14:22:06</td>\n",
       "      <td>JP</td>\n",
       "      <td>Asia</td>\n",
       "      <td>JPY</td>\n",
       "    </tr>\n",
       "    <tr>\n",
       "      <th>4</th>\n",
       "      <td>CUST000005</td>\n",
       "      <td>Search Engine Ads</td>\n",
       "      <td>Website</td>\n",
       "      <td>2021-04-02 09:02:15</td>\n",
       "      <td>DE</td>\n",
       "      <td>Europe</td>\n",
       "      <td>EUR</td>\n",
       "    </tr>\n",
       "  </tbody>\n",
       "</table>\n",
       "</div>"
      ],
      "text/plain": [
       "  customer_id  marketing_channel account_creation_method           created_on  \\\n",
       "0  CUST000001    Email Marketing                 Website  2024-09-24 22:19:54   \n",
       "1  CUST000002       Instagram Ad              Mobile App  2023-10-24 13:13:21   \n",
       "2  CUST000003  Search Engine Ads                 Website  2023-03-28 08:44:33   \n",
       "3  CUST000004         Twitch Ads                 Website  2020-04-08 14:22:06   \n",
       "4  CUST000005  Search Engine Ads                 Website  2021-04-02 09:02:15   \n",
       "\n",
       "  country         region currency  \n",
       "0      JP           Asia      JPY  \n",
       "1      BR  South America      BRL  \n",
       "2      KR           Asia      KRW  \n",
       "3      JP           Asia      JPY  \n",
       "4      DE         Europe      EUR  "
      ]
     },
     "execution_count": 8,
     "metadata": {},
     "output_type": "execute_result"
    }
   ],
   "source": [
    "customers_df_combined.head()"
   ]
  },
  {
   "cell_type": "code",
   "execution_count": 9,
   "metadata": {},
   "outputs": [
    {
     "name": "stdout",
     "output_type": "stream",
     "text": [
      "orders\n",
      "order_id              object\n",
      "customer_id           object\n",
      "product_id            object\n",
      "currency              object\n",
      "local_price          float64\n",
      "usd_price              int64\n",
      "purchase_platform     object\n",
      "purchase_ts           object\n",
      "ship_ts               object\n",
      "delivery_ts           object\n",
      "refund_ts             object\n",
      "dtype: object\n",
      "\n",
      "\n",
      "customers\n",
      "customer_id                object\n",
      "marketing_channel          object\n",
      "account_creation_method    object\n",
      "created_on                 object\n",
      "country                    object\n",
      "region                     object\n",
      "currency                   object\n",
      "dtype: object\n",
      "\n",
      "\n",
      "products\n",
      "product_id      object\n",
      "product_name    object\n",
      "category        object\n",
      "specs           object\n",
      "price_USD        int64\n",
      "dtype: object\n",
      "\n",
      "\n"
     ]
    }
   ],
   "source": [
    "tables_dict = {'orders': orders_df_combined, 'customers': customers_df_combined, 'products': products_df}\n",
    "\n",
    "for title, df in tables_dict.items():\n",
    "    print(f'{title}\\n{df.dtypes}\\n\\n')"
   ]
  },
  {
   "cell_type": "markdown",
   "metadata": {},
   "source": [
    "### Replace `np.nan` with `None` type"
   ]
  },
  {
   "cell_type": "code",
   "execution_count": 10,
   "metadata": {},
   "outputs": [],
   "source": [
    "# Replace np.nan with None type to correctly insert to databases\n",
    "for table in [orders_df_combined, customers_df_combined, products_df]:\n",
    "    table.replace(np.nan, None, inplace=True)"
   ]
  },
  {
   "cell_type": "markdown",
   "metadata": {},
   "source": [
    "## Export to .hyper"
   ]
  },
  {
   "cell_type": "code",
   "execution_count": 69,
   "metadata": {},
   "outputs": [],
   "source": [
    "# Create DataFrame Copies\n",
    "hyperapi_orders_df = orders_df_combined.copy()\n",
    "hyperapi_customers_df = customers_df_combined.copy()\n",
    "hyperapi_products_df = products_df.copy()"
   ]
  },
  {
   "cell_type": "code",
   "execution_count": 70,
   "metadata": {},
   "outputs": [],
   "source": [
    "# Replace types of price columns to avoid errors on hyperapi extraction\n",
    "hyperapi_orders_df['local_price'] = hyperapi_orders_df['local_price'].apply(lambda x: Decimal(x))\n",
    "hyperapi_orders_df['usd_price'] = hyperapi_orders_df['usd_price'].apply(lambda x: Decimal(x))"
   ]
  },
  {
   "cell_type": "code",
   "execution_count": 71,
   "metadata": {},
   "outputs": [],
   "source": [
    "def create_and_insert_table(conn: Connection, table_def: TableDefinition, df: pd.DataFrame):\n",
    "    \"\"\"\n",
    "    Creates a table in Hyper and inserts data from a Pandas DataFrame.\n",
    "\n",
    "    Args:\n",
    "        conn: Hyper Connection object.\n",
    "        table_def: TableDefinition object defining the table schema.\n",
    "        df: Pandas DataFrame containing the data to insert.\n",
    "    \"\"\"\n",
    "    conn.catalog.create_table(table_def)\n",
    "    with Inserter(conn, table_def) as inserter:\n",
    "        rows = []\n",
    "        for _, row in df.iterrows():\n",
    "            row_list = row.tolist()\n",
    "            rows.append(row_list)\n",
    "        inserter.add_rows(rows)\n",
    "        inserter.execute()\n",
    "\n",
    "\n",
    "with HyperProcess(Telemetry.DO_NOT_SEND_USAGE_DATA_TO_TABLEAU) as hyper:\n",
    "    with Connection(hyper.endpoint, 'data/output/gearquest.hyper', CreateMode.CREATE_AND_REPLACE) as conn:\n",
    "        conn.catalog.create_schema('gearquest')\n",
    "\n",
    "        orders_table_def = TableDefinition(\n",
    "            TableName('gearquest', 'orders'),\n",
    "            [\n",
    "                TableDefinition.Column('order_id', SqlType.varchar(255), Nullability.NOT_NULLABLE),\n",
    "                TableDefinition.Column('customer_id', SqlType.varchar(255), Nullability.NOT_NULLABLE),\n",
    "                TableDefinition.Column('product_id', SqlType.varchar(255), Nullability.NOT_NULLABLE),\n",
    "                TableDefinition.Column('currency', SqlType.varchar(255)),\n",
    "                TableDefinition.Column('local_price', SqlType.numeric(10, 2)),\n",
    "                TableDefinition.Column('usd_price', SqlType.numeric(10, 2)),\n",
    "                TableDefinition.Column('purchase_platform', SqlType.varchar(255)),\n",
    "                TableDefinition.Column('purchase_ts', SqlType.varchar(255)),\n",
    "                TableDefinition.Column('ship_ts', SqlType.varchar(255)),\n",
    "                TableDefinition.Column('delivery_ts', SqlType.varchar(255)),\n",
    "                TableDefinition.Column('refund_ts', SqlType.varchar(255)),\n",
    "            ],\n",
    "        )\n",
    "        customers_table_def = TableDefinition(\n",
    "            TableName('gearquest', 'customers'),\n",
    "            [\n",
    "                TableDefinition.Column('customer_id', SqlType.varchar(255), Nullability.NOT_NULLABLE),\n",
    "                TableDefinition.Column('marketing_channel', SqlType.varchar(255)),\n",
    "                TableDefinition.Column('account_creation_method', SqlType.varchar(255)),\n",
    "                TableDefinition.Column('created_on', SqlType.varchar(255)),\n",
    "                TableDefinition.Column('country', SqlType.varchar(255)),\n",
    "                TableDefinition.Column('region', SqlType.varchar(255)),\n",
    "                TableDefinition.Column('currency', SqlType.varchar(255)),\n",
    "            ],\n",
    "        )\n",
    "        products_table_def = TableDefinition(\n",
    "            TableName('gearquest', 'products'),\n",
    "            [\n",
    "                TableDefinition.Column('product_id', SqlType.varchar(255), Nullability.NOT_NULLABLE),\n",
    "                TableDefinition.Column('product_name', SqlType.varchar(255)),\n",
    "                TableDefinition.Column('category', SqlType.varchar(255)),\n",
    "                TableDefinition.Column('specs', SqlType.varchar(255)),\n",
    "                TableDefinition.Column('price_USD', SqlType.int()),\n",
    "            ],\n",
    "        )\n",
    "\n",
    "        # Orders Table Insertion\n",
    "        create_and_insert_table(conn, orders_table_def, hyperapi_orders_df)\n",
    "\n",
    "        # Customers Table Insertion\n",
    "        create_and_insert_table(conn, customers_table_def, hyperapi_customers_df)\n",
    "\n",
    "        # Products Table Insertion\n",
    "        create_and_insert_table(conn, products_table_def, hyperapi_products_df)\n"
   ]
  },
  {
   "cell_type": "markdown",
   "metadata": {},
   "source": [
    "## Export PostgreSQL"
   ]
  },
  {
   "cell_type": "code",
   "execution_count": 11,
   "metadata": {},
   "outputs": [],
   "source": [
    "# Reset index (multiple orders overlap)\n",
    "orders_df_combined = orders_df_combined.reset_index()"
   ]
  },
  {
   "cell_type": "code",
   "execution_count": null,
   "metadata": {},
   "outputs": [
    {
     "name": "stdout",
     "output_type": "stream",
     "text": [
      "Upserted 1038215 records into orders.\n",
      "Upserted 50000 records into customers.\n",
      "Upserted 60 records into products.\n"
     ]
    }
   ],
   "source": [
    "# Load environment variables\n",
    "load_dotenv()\n",
    "pg_host = os.getenv('PG_HOST')\n",
    "pg_user = os.getenv('PG_USER')\n",
    "pg_password = os.getenv('PG_PASSWORD')\n",
    "pg_database = os.getenv('PG_DATABASE')\n",
    "\n",
    "# Connect to PostgreSQL\n",
    "conn = psycopg2.connect(host=pg_host, user=pg_user, password=pg_password, database=pg_database)\n",
    "cursor = conn.cursor()\n",
    "\n",
    "\n",
    "def sync_dataframe_to_table(cursor, table_name, columns, df):\n",
    "    \"\"\"\n",
    "    Synchronizes a pandas DataFrame with a PostgreSQL table, performing upsert operations.\n",
    "\n",
    "    Args:\n",
    "        cursor: A PostgreSQL database cursor object\n",
    "        table_name (str): Name of the target database table\n",
    "        columns (list): List of tuples containing column names and their PostgreSQL data types\n",
    "        df (pandas.DataFrame): DataFrame containing the data to sync\n",
    "\n",
    "    The function performs the following operations:\n",
    "    1. Creates the table if it doesn't exist\n",
    "    2. Identifies primary key columns\n",
    "    3. Deletes records that exist in the database but not in the DataFrame\n",
    "    4. Upserts (INSERT/UPDATE) records from the DataFrame into the database\n",
    "    \"\"\"\n",
    "    # Ensure table exists\n",
    "    column_definitions = ', '.join([f'\"{name}\" {dtype}' for name, dtype in columns])\n",
    "    cursor.execute(f'CREATE TABLE IF NOT EXISTS \"{table_name}\" ({column_definitions})')\n",
    "\n",
    "    # Identify primary key(s)\n",
    "    pk_cols = ', '.join([f'\"{name}\"' for name, dtype in columns if 'PRIMARY KEY' in dtype])  # Extract PK column names\n",
    "\n",
    "    db_existing_pks = set()  # Initialize as empty set\n",
    "    try:\n",
    "        # Fetch existing primary keys from the database\n",
    "        cursor.execute(f'SELECT {pk_cols} FROM \"{table_name}\"')\n",
    "        db_existing_pks = set(cursor.fetchall())\n",
    "    except psycopg2.errors.UndefinedTable:  # catch exception for when a table does not exist\n",
    "        print(f'Table {table_name} likely just created, or does not exist.')\n",
    "    except Exception as e:\n",
    "        print(f'An unexpected error occurred: {e}')\n",
    "\n",
    "    # Prepare DataFrame primary keys as a set of tuples\n",
    "    pk_cols_list = [name for name, dtype in columns if 'PRIMARY KEY' in dtype]  # Extract PK column names\n",
    "    df_pk_tuples = set([tuple(row[pk] for pk in pk_cols_list) for _, row in df.iterrows()])\n",
    "\n",
    "    # Delete records that no longer exist in the DataFrame\n",
    "    to_delete = [pk for pk in db_existing_pks if pk not in df_pk_tuples]\n",
    "    if to_delete:\n",
    "        delete_query = f'DELETE FROM \"{table_name}\" WHERE ({pk_cols}) IN ({\", \".join([\"%s\"] * len(to_delete))})'\n",
    "        cursor.executemany(delete_query, to_delete)\n",
    "        print(f'Deleted {len(to_delete)} records from {table_name}.')\n",
    "\n",
    "    # Prepare the insert query with upsert (ON CONFLICT DO UPDATE)\n",
    "    placeholders = ', '.join(['%s'] * len(columns))\n",
    "    column_names = ', '.join([f'\"{name}\"' for name, _ in columns])\n",
    "    updates = ', '.join([f'\"{name}\" = EXCLUDED.\"{name}\"' for name, dtype in columns if 'PRIMARY KEY' not in dtype])\n",
    "\n",
    "    insert_query = f'''\n",
    "        INSERT INTO \"{table_name}\" ({column_names}) VALUES ({placeholders})\n",
    "        ON CONFLICT ({pk_cols}) DO UPDATE SET {updates}\n",
    "    '''\n",
    "\n",
    "    # Prepare rows for insertion\n",
    "    rows = []\n",
    "    for _, row in df.iterrows():\n",
    "        row_list = [row[name] for name, _ in columns]\n",
    "        rows.append(tuple(row_list))\n",
    "\n",
    "    # Bulk insert/upsert data\n",
    "    try:\n",
    "        cursor.executemany(insert_query, rows)\n",
    "        print(f'Upserted {len(rows)} records into {table_name}.')\n",
    "    except Exception as e:\n",
    "        print(f'Error upserting records into {table_name}: {e}')\n",
    "        print(f'Problematic query: {insert_query}')\n",
    "        print(f'First few rows of problematic data: {rows[:5]}')\n",
    "        return\n",
    "\n",
    "\n",
    "# Define table schemas and primary keys\n",
    "table_schemas = {\n",
    "    'orders': {\n",
    "        'columns': [\n",
    "            ('index', 'INTEGER NOT NULL PRIMARY KEY'),  # PRIMARY KEY\n",
    "            ('order_id', 'TEXT NOT NULL'),\n",
    "            ('customer_id', 'TEXT NOT NULL'),\n",
    "            ('product_id', 'TEXT NOT NULL'),\n",
    "            ('currency', 'TEXT'),\n",
    "            ('local_price', 'NUMERIC(10, 2)'),\n",
    "            ('usd_price', 'NUMERIC(10, 2)'),\n",
    "            ('purchase_platform', 'TEXT'),\n",
    "            ('purchase_ts', 'TEXT'),\n",
    "            ('ship_ts', 'TEXT'),\n",
    "            ('delivery_ts', 'TEXT'),\n",
    "            ('refund_ts', 'TEXT'),\n",
    "        ],\n",
    "        'dataframe': orders_df_combined,\n",
    "    },\n",
    "    'customers': {\n",
    "        'columns': [\n",
    "            ('customer_id', 'TEXT NOT NULL PRIMARY KEY'),  # PRIMARY KEY\n",
    "            ('marketing_channel', 'TEXT'),\n",
    "            ('account_creation_method', 'TEXT'),\n",
    "            ('created_on', 'TEXT'),\n",
    "            ('country', 'TEXT'),\n",
    "            ('region', 'TEXT'),\n",
    "            ('currency', 'TEXT'),\n",
    "        ],\n",
    "        'dataframe': customers_df_combined,\n",
    "    },\n",
    "    'products': {\n",
    "        'columns': [\n",
    "            ('product_id', 'TEXT NOT NULL PRIMARY KEY'),  # PRIMARY KEY\n",
    "            ('product_name', 'TEXT'),\n",
    "            ('category', 'TEXT'),\n",
    "            ('price_USD', 'INTEGER'),\n",
    "        ],\n",
    "        'dataframe': products_df,\n",
    "    },\n",
    "}\n",
    "\n",
    "# Sync each table with the database\n",
    "for table_name, schema in table_schemas.items():\n",
    "    sync_dataframe_to_table(cursor=cursor, table_name=table_name, columns=schema['columns'], df=schema['dataframe'])\n",
    "\n",
    "# Commit changes and close the connection\n",
    "conn.commit()\n",
    "cursor.close()\n",
    "conn.close()\n"
   ]
  },
  {
   "cell_type": "code",
   "execution_count": 96,
   "metadata": {},
   "outputs": [
    {
     "data": {
      "text/plain": [
       "(1038215, 11)"
      ]
     },
     "execution_count": 96,
     "metadata": {},
     "output_type": "execute_result"
    }
   ],
   "source": [
    "orders_df_combined.shape"
   ]
  },
  {
   "cell_type": "code",
   "execution_count": 97,
   "metadata": {},
   "outputs": [
    {
     "data": {
      "text/plain": [
       "(50000, 7)"
      ]
     },
     "execution_count": 97,
     "metadata": {},
     "output_type": "execute_result"
    }
   ],
   "source": [
    "customers_df_combined.shape"
   ]
  },
  {
   "cell_type": "code",
   "execution_count": 98,
   "metadata": {},
   "outputs": [
    {
     "data": {
      "text/plain": [
       "(60, 5)"
      ]
     },
     "execution_count": 98,
     "metadata": {},
     "output_type": "execute_result"
    }
   ],
   "source": [
    "products_df.shape"
   ]
  },
  {
   "cell_type": "code",
   "execution_count": null,
   "metadata": {},
   "outputs": [],
   "source": []
  }
 ],
 "metadata": {
  "kernelspec": {
   "display_name": "etl_hyper",
   "language": "python",
   "name": "python3"
  },
  "language_info": {
   "codemirror_mode": {
    "name": "ipython",
    "version": 3
   },
   "file_extension": ".py",
   "mimetype": "text/x-python",
   "name": "python",
   "nbconvert_exporter": "python",
   "pygments_lexer": "ipython3",
   "version": "3.10.16"
  }
 },
 "nbformat": 4,
 "nbformat_minor": 2
}
